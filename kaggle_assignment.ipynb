{
  "nbformat": 4,
  "nbformat_minor": 0,
  "metadata": {
    "colab": {
      "provenance": [],
      "collapsed_sections": []
    },
    "kernelspec": {
      "name": "python3",
      "display_name": "Python 3"
    },
    "language_info": {
      "name": "python"
    }
  },
  "cells": [
    {
      "cell_type": "markdown",
      "source": [
        "# **Analyze Kaggle In Kaggle**\n",
        "In this extra credit assignment, you will explore the [Kaggle dataset transformed from real Kaggle databases](\n",
        "https://www.kaggle.com/datasets/kaggle/meta-kaggle).\n",
        "You will be asked to write four queries for data analysis over two types of datasets (normalized vs. denormalized). You need to fill out the survey questions. We grade queries based on correctness, and survey questions based on efforts."
      ],
      "metadata": {
        "id": "n5jOm9CE5ZcP"
      }
    },
    {
      "cell_type": "code",
      "source": [
        "#@title Please fill in the form and run the cell by clicking on the left run button (circle with a triangle play icon) { run: \"auto\", vertical-output: true, display-mode: \"form\" }\n",
        "\n",
        "#@markdown What's your years of experience in SQL?\n",
        "SQL_yoe = \"unselected - Please select!!\" #@param [\"unselected - Please select!!\",\" < 3 months\", \"3 months - 1 year\", \"1 - 3 years\", \"> 3 years\"]\n",
        "\n",
        "#@markdown Fill in your uni here:\n",
        "uni = \"\" #@param {type:\"string\"}\n",
        "assert uni != \"\", \"Please fill in your uni!\"\n",
        "\n",
        "%pip install duckdb\n",
        "\n",
        "from IPython.display import Markdown as md\n",
        "import urllib.request\n",
        "import duckdb\n",
        "import numpy as np\n",
        "import math\n",
        "def convertToNumber (s):\n",
        "    return int.from_bytes(s.encode(), 'little')\n",
        "\n",
        "\n",
        "urllib.request.urlretrieve(\"https://raw.githubusercontent.com/zachary62/wide-table-data/main/kaggle/Competitions.csv\", \"Competitions.csv\")\n",
        "urllib.request.urlretrieve(\"https://raw.githubusercontent.com/zachary62/wide-table-data/main/kaggle/Users.csv\", \"Users.csv\")\n",
        "urllib.request.urlretrieve(\"https://raw.githubusercontent.com/zachary62/wide-table-data/main/kaggle/TeamMemberships.csv\", \"TeamMemberships.csv\")\n",
        "urllib.request.urlretrieve(\"https://raw.githubusercontent.com/zachary62/wide-table-data/main/kaggle/Teams.csv\", \"Teams.csv\")\n",
        "\n",
        "seed = convertToNumber(uni) % 100000\n",
        "np.random.seed(seed)\n",
        "qidx = np.random.permutation(4)\n",
        "qnor = np.random.permutation([True, False])\n",
        "\n",
        "query = []\n",
        "query.append(\"\"\"\n",
        "Find the total number of teams participating in the competition **NOT** hosted by 'UCL' (as HostName).\n",
        "\n",
        "The output schema should be: [TotalTeams].\n",
        "\"\"\")\n",
        "\n",
        "query.append(\"\"\"\n",
        "A ghost team is a team without any User as its member.\n",
        "\n",
        "Compute the total number of competitions participated by any ghost team.\n",
        "\n",
        "The output schema should be: [TotalCompetition].\n",
        "\"\"\")\n",
        "\n",
        "\n",
        "query.append(\"\"\"\n",
        "For each team leader whose RegisterDate is before 2012-1-1, compute the average TeamPublicLeaderboardRank for all teams he or she leads.\n",
        "\n",
        "For date, it is okay to use string comparison (< '2012-1-1').\n",
        "\n",
        "Please disregard any team with missing (NULL) TeamPublicLeaderboardRank.\n",
        "\n",
        "The output schema should be: [TeamLeaderId, AverageRank].\n",
        "\"\"\")\n",
        "\n",
        "\n",
        "query.append(\"\"\"\n",
        "For competitions where there exists participant User with UserPerformanceTier = 5, compute the total duration across all these competitions.\n",
        "\n",
        "The output should be a single record of the total duration.\n",
        "\n",
        "The output schema should be: [TotalDuration].\n",
        "\"\"\")\n",
        "\n",
        "normalized = \"\"\"\n",
        "For this task, you are asked to analyze the original normalized Kaggle dataset.\n",
        "\n",
        "The database is **the same** as that from the Background before. For reference, we copy the schema below:\n",
        "\n",
        "(the primay key is in bold and the foreign key is in italic)\n",
        "\n",
        "* **Users**: [**'UserId'**, 'UserDisplayName', 'UserName', 'UserPerformanceTier', 'UserRegisterDate']\n",
        "* **Competitions**: [**'CompetitionId'**, 'CompetitionDeadlineDate', 'CompetitionDuration', 'CompetitionEnabledDate', 'CompetitionHostName', 'CompetitionHostSegmentTitle', 'CompetitionSlug', 'CompetitionSubtitle', 'CompetitionTitle']\n",
        "* **Teams**: [**'TeamId'**, *'CompetitionId'*, *'TeamLeaderId'*, 'TeamLastSubmissionDate', 'TeamMedal', 'TeamMedalAwardDate', 'TeamName', 'TeamPublicLeaderboardRank']\n",
        "* **TeamMemberships**: [**'MembershipId'**, *'TeamId'*, *'UserId'*, 'MembershipRequestDate']\n",
        "\n",
        "Answer the following two questions and surveys based on **these four normalized datasets**:\n",
        "\"\"\"\n",
        "\n",
        "denormalized = \"\"\"\n",
        "For this task, you are asked to analyze only using the denormalized Kaggle relation.\n",
        "\n",
        "The denormalized Kaggle relation is computed through full outer join from the original normalized database.\n",
        "\n",
        "The schema of the denormalized relation is as follows:\n",
        "\n",
        "**kaggle_dataset** ['CompetitionId', 'CompetitionTitle', 'CompetitionHostName',\n",
        "       'CompetitionHostSegmentTitle', 'CompetitionDuration', 'TeamId',\n",
        "       'TeamName', 'TeamMedal', 'TeamLastSubmissionDate',\n",
        "       'TeamPublicLeaderboardRank', 'TeamLeaderId', 'TeamLeaderUserName',\n",
        "       'TeamLeaderRegisterDate', 'UserId', 'UserName', 'UserPerformanceTier',\n",
        "       'UserRegisterDate']\n",
        "\n",
        "\n",
        "- Attributes for Competitions are prefixed with Competition: ['CompetitionId', 'CompetitionTitle', 'CompetitionHostName',\n",
        "       'CompetitionHostSegmentTitle', 'CompetitionDuration']\n",
        "- Attributes for Teams are prefixed with Team: ['TeamId','TeamName', 'TeamMedal', 'TeamLastSubmissionDate', 'TeamPublicLeaderboardRank']\n",
        "- Attributes for Team Leader are prefixed with TeamLeader: ['TeamLeaderId', 'TeamLeaderUserName',\n",
        "       'TeamLeaderRegisterDate']\n",
        "- Attributes for Team Members are prefixed with User: ['UserId', 'UserName', 'UserPerformanceTier', 'UserRegisterDate']\n",
        "\n",
        "Answer the following two questions and surveys based on **the denormalized kaggle_dataset**:\n",
        "\"\"\""
      ],
      "metadata": {
        "id": "6d0T380nRRel"
      },
      "execution_count": null,
      "outputs": []
    },
    {
      "cell_type": "code",
      "source": [
        "#@title Consent Form { run: \"auto\", vertical-output: true, display-mode: \"form\" }\n",
        "#@markdown **Purpose of this study:**We hope to use assignment submissions as part of a research study. The purpose of this study is to understand how easy or difficult it is to write correct analysis queries over normalized and denormalized databases.  This will help us understand challenges in database decomposition, and inform the development of simpler and more correct querying interfaces. If you have any questions about the study, please reach out to Zachary Huang (zh2408@columbia.edu).\n",
        "\n",
        "#@markdown **Freedom to withdraw:** Your choice to participate in this study is completely voluntary and does not affect your extra credit grade.  If you want to withdraw your consent in the future, please contact Zachary Huang. We will destroy any data we hold from you.\n",
        "\n",
        "#@markdown **Privacy & Data Security:** We will ask you to write SQL queries using normalized and denormalized databses, and fill out surveys. We do not collect any other personal information and the data are anonymous. We will carefully examine the words and exclude any details that may contain identifiable information.  Identifying information involved during recruitment (uni) will not be stored for the study. We may publish research reports that include your comments and actions, but they will be anonymous.\n",
        "\n",
        "#@markdown If you are below 18, we will not use your data. \n",
        "\n",
        "#@markdown **If you are over 18 and are willing to participate in the study, please answer yes. If you are below 18 or decline to participate in the study, please answer no.** \n",
        "consent = \"yes\" #@param [\"yes\",\"no\"]\n"
      ],
      "metadata": {
        "id": "-ABM7Q5pqBr4"
      },
      "execution_count": null,
      "outputs": []
    },
    {
      "cell_type": "markdown",
      "source": [
        "\n",
        "# **Background**\n",
        "\n",
        "Here, we introduce some important entities in Kaggle for this assignment.\n",
        "\n",
        "*  [**User**](https://www.kaggle.com/rankings): Kaggle has many Users. Each User has UserName, RegisterDate and PerformanceTier. \n",
        "\n",
        "*  [**Competitions**](https://www.kaggle.com/competitions): Kaggle has many competitions hosted by different entities. Each competition has a fixed Duration.\n",
        "\n",
        "*  **Teams**: Users form a team to participate in one competition. Check out [the example teams and leaderboard](https://www.kaggle.com/competitions/feedback-prize-english-language-learning/leaderboard) for one competition. Each Team could have a Team Leader and many members. Each Team submits to the competition and the best teams win medals. \n",
        "\n",
        "# **Database**\n",
        "\n",
        "We use DuckDB for this assignment. Check out the DuckDB tutorial [here](https://duckdb.org/docs/sql/introduction).\n",
        "\n",
        "The original Kaggle database has four relations (the primary key is in bold and the foreign key is in italic):\n",
        "\n",
        "* **Users**: [**'UserId'**, 'UserDisplayName', 'UserName', 'UserPerformanceTier', 'UserRegisterDate']\n",
        "* **Competitions**: [**'CompetitionId'**, 'CompetitionDeadlineDate', 'CompetitionDuration', 'CompetitionEnabledDate', 'CompetitionHostName', 'CompetitionHostSegmentTitle', 'CompetitionSlug', 'CompetitionSubtitle', 'CompetitionTitle']\n",
        "* **Teams**: [**'TeamId'**, *'CompetitionId'*, *'TeamLeaderId'*, 'TeamLastSubmissionDate', 'TeamMedal', 'TeamMedalAwardDate', 'TeamName', 'TeamPublicLeaderboardRank']\n",
        "* **TeamMemberships**: [**'MembershipId'**, *'TeamId'*, *'UserId'*, 'MembershipRequestDate']"
      ],
      "metadata": {
        "id": "IjFKuAiQoW-q"
      }
    },
    {
      "cell_type": "markdown",
      "source": [
        "The following ER diagram shows the relationships among entities:\n",
        "![image.png](data:image/png;base64,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)\n",
        "\n",
        "- Each team has multiple Users, and each User can be in multiple teams. The 'TeamMemberships' relation is used to represent the many-to-many relationship.\n",
        "- Each team has at most one User as the team leader.\n",
        "- Each team participates in at most one competition.\n"
      ],
      "metadata": {
        "id": "8kW9u26K6u7V"
      }
    },
    {
      "cell_type": "code",
      "source": [
        "#@title Task 1. Please run the cell for task details (click on the left run button){ vertical-output: true, display-mode: \"form\" }\n",
        "con = duckdb.connect(database=':memory:')\n",
        "if qnor[0]:\n",
        "  con.execute(\"CREATE OR REPLACE TABLE Competitions AS SELECT * FROM Competitions.csv;\")\n",
        "  con.execute(\"CREATE OR REPLACE TABLE Users AS SELECT * FROM Users.csv;\")\n",
        "  con.execute(\"CREATE OR REPLACE TABLE TeamMemberships AS SELECT * FROM TeamMemberships.csv;\")\n",
        "  con.execute(\"CREATE OR REPLACE TABLE Teams AS SELECT * FROM Teams.csv;\")\n",
        "else:\n",
        "  con.execute(\"CREATE OR REPLACE TABLE Competitions AS SELECT * FROM Competitions.csv;\")\n",
        "  con.execute(\"CREATE OR REPLACE TABLE Users AS SELECT * FROM Users.csv;\")\n",
        "  con.execute(\"CREATE OR REPLACE TABLE TeamMemberships AS SELECT * FROM TeamMemberships.csv;\")\n",
        "  con.execute(\"CREATE OR REPLACE TABLE Teams AS SELECT * FROM Teams.csv;\")\n",
        "  con.execute(\"\"\"\n",
        "  CREATE OR REPLACE TABLE kaggle_dataset AS\n",
        "  SELECT c.CompetitionId, c.CompetitionTitle, c.CompetitionHostName, c.CompetitionHostSegmentTitle, c.CompetitionDuration, \n",
        "  t.TeamId, t.TeamName, t.TeamMedal, t.TeamLastSubmissionDate, t.TeamPublicLeaderboardRank,\n",
        "  t.TeamLeaderId, lu.UserName AS TeamLeaderUserName, lu.UserRegisterDate AS TeamLeaderRegisterDate,\n",
        "  u.UserId, u.UserName, u.UserPerformanceTier, u.UserRegisterDate,\n",
        "  FROM Teams t FULL JOIN Competitions c ON c.CompetitionId = t.CompetitionId \n",
        "  FULL JOIN Users lu ON lu.UserId = t.TeamLeaderId\n",
        "  FULL JOIN TeamMemberships tm ON tm.TeamId = t.TeamId\n",
        "  FULL JOIN Users u ON u.UserId = tm.UserId;\n",
        "  \"\"\")\n",
        "  con.execute(\"DROP TABLE Teams;\")\n",
        "  con.execute(\"DROP TABLE Competitions;\")\n",
        "  con.execute(\"DROP TABLE Users;\")\n",
        "  con.execute(\"DROP TABLE TeamMemberships;\")\n",
        "\n",
        "md(\n",
        "(normalized if qnor[0] else denormalized) +\n",
        "\"\"\"\n",
        "**Question 1:** {q1}\n",
        "**Question 2:** {q2}\n",
        "\"\"\".format(q1=query[qidx[0]], q2=query[qidx[1]]))"
      ],
      "metadata": {
        "id": "YoPChUzJxnmw"
      },
      "execution_count": null,
      "outputs": []
    },
    {
      "cell_type": "code",
      "source": [
        "# Anwer Q1 below (2 points based on correctness)\n",
        "q1 = \"\"\"SELECT 1\"\"\"\n",
        "con.execute(q1).df()"
      ],
      "metadata": {
        "id": "RYY92Dtq49GA"
      },
      "execution_count": null,
      "outputs": []
    },
    {
      "cell_type": "code",
      "source": [
        "#@title Q1 survey (1 point based on efforts) { run: \"auto\", display-mode: \"form\" }\n",
        "#@markdown **Please fill in the survey and run the cell (by clicking on the run button to the left)**\n",
        "\n",
        "#@markdown How confident do you feel about the correctness of the query?\n",
        "q1_confidence = \"unselected - Please select!!\" #@param [\"unselected - Please select!!\",\"1 (Very confident)\", \"2 (somehow confident)\", \"3 (neutral)\", \"4 (somehow unconfident)\", \"5 (very unconfident)\"]\n",
        "#@markdown How easy is the process of constructing the query?\n",
        "q1_preference = \"unselected - Please select!!\" #@param [\"unselected - Please select!!\",\"1 (Very easy)\", \"2 (somehow easy)\", \"3 (neutral)\", \"4 (somehow frustrating)\", \"5 (very frustrating)\"]\n",
        "\n",
        "#@markdown During the process of composing the query, what were the parts frustrating or challenging? Please elaborate in a few words.\n",
        "q1_review = \"\" #@param {type:\"string\"}\n"
      ],
      "metadata": {
        "id": "FnUnDqycRwcz"
      },
      "execution_count": null,
      "outputs": []
    },
    {
      "cell_type": "code",
      "source": [
        "# Answer Q2 below (2 points based on correctness)\n",
        "q2 = \"\"\"SELECT 1\"\"\"\n",
        "con.execute(q2).df()"
      ],
      "metadata": {
        "id": "eFpdZbpJEcdd"
      },
      "execution_count": null,
      "outputs": []
    },
    {
      "cell_type": "code",
      "source": [
        "#@title Q2 survey (1 point based on efforts) { run: \"auto\", display-mode: \"form\" }\n",
        "#@markdown **Please fill in the survey and run the cell (by clicking on the run button to the left)**\n",
        "\n",
        "#@markdown How confident do you feel about the correctness of the query?\n",
        "q2_confidence = \"unselected - Please select!!\" #@param [\"unselected - Please select!!\",\"1 (Very confident)\", \"2 (somehow confident)\", \"3 (neutral)\", \"4 (somehow unconfident)\", \"5 (very unconfident)\"]\n",
        "#@markdown How easy is the process of constructing the query?\n",
        "q2_preference = \"unselected - Please select!!\" #@param [\"unselected - Please select!!\",\"1 (Very easy)\", \"2 (somehow easy)\", \"3 (neutral)\", \"4 (somehow frustrating)\", \"5 (very frustrating)\"]\n",
        "\n",
        "#@markdown During the process of composing the query, what were the parts frustrating or challenging? Please elaborate in a few words.\n",
        "q2_review = \"\" #@param {type:\"string\"}\n"
      ],
      "metadata": {
        "id": "FjO5qs61FQK3"
      },
      "execution_count": null,
      "outputs": []
    },
    {
      "cell_type": "code",
      "source": [
        "#@title Task 2. Please run the cell for task details (click on the left run button){ vertical-output: true, display-mode: \"form\" }\n",
        "con = duckdb.connect(database=':memory:')\n",
        "if qnor[1]:\n",
        "  con.execute(\"CREATE OR REPLACE TABLE Competitions AS SELECT * FROM Competitions.csv;\")\n",
        "  con.execute(\"CREATE OR REPLACE TABLE Users AS SELECT * FROM Users.csv;\")\n",
        "  con.execute(\"CREATE OR REPLACE TABLE TeamMemberships AS SELECT * FROM TeamMemberships.csv;\")\n",
        "  con.execute(\"CREATE OR REPLACE TABLE Teams AS SELECT * FROM Teams.csv;\")\n",
        "else:\n",
        "  con.execute(\"CREATE OR REPLACE TABLE Competitions AS SELECT * FROM Competitions.csv;\")\n",
        "  con.execute(\"CREATE OR REPLACE TABLE Users AS SELECT * FROM Users.csv;\")\n",
        "  con.execute(\"CREATE OR REPLACE TABLE TeamMemberships AS SELECT * FROM TeamMemberships.csv;\")\n",
        "  con.execute(\"CREATE OR REPLACE TABLE Teams AS SELECT * FROM Teams.csv;\")\n",
        "  con.execute(\"\"\"\n",
        "  CREATE OR REPLACE TABLE kaggle_dataset AS\n",
        "  SELECT c.CompetitionId, c.CompetitionTitle, c.CompetitionHostName, c.CompetitionHostSegmentTitle, c.CompetitionDuration, \n",
        "  t.TeamId, t.TeamName, t.TeamMedal, t.TeamLastSubmissionDate, t.TeamPublicLeaderboardRank,\n",
        "  t.TeamLeaderId, lu.UserName AS TeamLeaderUserName, lu.UserRegisterDate AS TeamLeaderRegisterDate,\n",
        "  u.UserId, u.UserName, u.UserPerformanceTier, u.UserRegisterDate,\n",
        "  FROM Teams t FULL JOIN Competitions c ON c.CompetitionId = t.CompetitionId \n",
        "  FULL JOIN Users lu ON lu.UserId = t.TeamLeaderId\n",
        "  FULL JOIN TeamMemberships tm ON tm.TeamId = t.TeamId\n",
        "  FULL JOIN Users u ON u.UserId = tm.UserId;\n",
        "  \"\"\")\n",
        "  con.execute(\"DROP TABLE Teams;\")\n",
        "  con.execute(\"DROP TABLE Competitions;\")\n",
        "  con.execute(\"DROP TABLE Users;\")\n",
        "  con.execute(\"DROP TABLE TeamMemberships;\")\n",
        "\n",
        "md(\n",
        "(normalized if qnor[1] else denormalized) +\n",
        "\"\"\"\n",
        "**Question 3:** {q3}\n",
        "**Question 4:** {q4}\n",
        "\"\"\".format(q3=query[qidx[2]], q4=query[qidx[3]]))"
      ],
      "metadata": {
        "id": "DL15u-WMHsn2"
      },
      "execution_count": null,
      "outputs": []
    },
    {
      "cell_type": "code",
      "source": [
        "# Answer Q3 below (2 points based on correctness)\n",
        "q3 = \"\"\"SELECT 1\"\"\"\n",
        "con.execute(q3).df()"
      ],
      "metadata": {
        "id": "JNoIgqh8KhgY"
      },
      "execution_count": null,
      "outputs": []
    },
    {
      "cell_type": "code",
      "source": [
        "#@title Q3 survey (1 point based on efforts) { run: \"auto\", display-mode: \"form\" }\n",
        "#@markdown **Please fill in the survey and run the cell (by clicking on the run button to the left)**\n",
        "\n",
        "#@markdown How confident do you feel about the correctness of the query?\n",
        "q3_confidence = \"unselected - Please select!!\" #@param [\"unselected - Please select!!\",\"1 (Very confident)\", \"2 (somehow confident)\", \"3 (neutral)\", \"4 (somehow unconfident)\", \"5 (very unconfident)\"]\n",
        "#@markdown How easy is the process of constructing the query?\n",
        "q3_preference = \"unselected - Please select!!\" #@param [\"unselected - Please select!!\",\"1 (Very easy)\", \"2 (somehow easy)\", \"3 (neutral)\", \"4 (somehow frustrating)\", \"5 (very frustrating)\"]\n",
        "\n",
        "#@markdown During the process of composing the query, what were the parts frustrating or challenging? Please elaborate in a few words.\n",
        "q3_review = \"\" #@param {type:\"string\"}\n"
      ],
      "metadata": {
        "id": "0bBec_HcKnqE"
      },
      "execution_count": null,
      "outputs": []
    },
    {
      "cell_type": "code",
      "source": [
        "# Answer Q4 below (2 points based on correctness)\n",
        "q4 = \"\"\"SELECT 1\"\"\"\n",
        "con.execute(q4).df()"
      ],
      "metadata": {
        "id": "WjMK6IlQKu3V"
      },
      "execution_count": null,
      "outputs": []
    },
    {
      "cell_type": "code",
      "source": [
        "#@title Q4 survey (1 point based on efforts) { run: \"auto\", display-mode: \"form\" }\n",
        "#@markdown **Please fill in the survey and run the cell (by clicking on the run button to the left)**\n",
        "\n",
        "#@markdown How confident do you feel about the correctness of the query?\n",
        "q4_confidence = \"unselected - Please select!!\" #@param [\"unselected - Please select!!\",\"1 (Very confident)\", \"2 (somehow confident)\", \"3 (neutral)\", \"4 (somehow unconfident)\", \"5 (very unconfident)\"]\n",
        "#@markdown How easy is the process of constructing the query?\n",
        "q4_preference = \"unselected - Please select!!\" #@param [\"unselected - Please select!!\",\"1 (Very easy)\", \"2 (somehow easy)\", \"3 (neutral)\", \"4 (somehow frustrating)\", \"5 (very frustrating)\"]\n",
        "\n",
        "#@markdown During the process of composing the query, what were the parts frustrating or challenging? Please elaborate in a few words.\n",
        "q4_review = \"\" #@param {type:\"string\"}\n"
      ],
      "metadata": {
        "id": "rRY3Y_dqNjBt"
      },
      "execution_count": null,
      "outputs": []
    },
    {
      "cell_type": "code",
      "source": [
        "#@title Final survey (1 point based on efforts) { run: \"auto\", display-mode: \"form\" }\n",
        "#@markdown **Please fill in the survey and run the cell (by clicking on the run button to the left)**\n",
        "\n",
        "#@markdown Overall, I find it easier to compose queries\n",
        "q5_preference = \"unselected - Please select!!\" #@param [\"unselected - Please select!!\",\"1 (always over normalized tables (4 tables))\", \"2 (more often over normalized tables (4 tables))\", \"3 (neutral)\", \"4 (more often over denormalzied table (kaggle_dataset))\", \"5 (always over denormalzied table (kaggle_dataset))\"]\n",
        "\n",
        "#@markdown Overall, which parts do you find convenient/frustrating while composing queries over normalized and denormalized databases? Please share your opinions.\n",
        "q5_review = \"\" #@param {type:\"string\"}\n",
        "\n",
        "#@markdown (Optional) If you have any other comments, please share them below:\n",
        "q5_comment = \"\" #@param {type:\"string\"}\n"
      ],
      "metadata": {
        "id": "fMF7_lCmSPxs"
      },
      "execution_count": null,
      "outputs": []
    },
    {
      "cell_type": "markdown",
      "source": [
        "# **Submission**\n",
        "Submit the assignment: Please ensure that the following json text is correct and you have filled in all the surveys. Copy and paste the json text result to gradescope assignment \"[Extra Credit] Kaggle Assignment\"."
      ],
      "metadata": {
        "id": "VTzGGj03HSH4"
      }
    },
    {
      "cell_type": "code",
      "source": [
        "answer = {\n",
        "    \"uni\": uni,\n",
        "    \"SQL_yoe\": SQL_yoe,\n",
        "\n",
        "    # Please don't modify below two\n",
        "    \"qidx\": qidx,\n",
        "    \"qnor\": qnor,\n",
        "\n",
        "    \"consent\": consent,\n",
        "\n",
        "    \"q1\": q1,\n",
        "    \"q1_confidence\":q1_confidence,\n",
        "    \"q1_preference\": q1_preference,\n",
        "    \"q1_review\": q1_review,\n",
        "\n",
        "    \"q2\": q2,\n",
        "    \"q2_confidence\":q2_confidence,\n",
        "    \"q2_preference\": q2_preference,\n",
        "    \"q2_review\": q2_review,\n",
        "\n",
        "    \"q3\": q3,\n",
        "    \"q3_confidence\":q3_confidence,\n",
        "    \"q3_preference\": q3_preference,\n",
        "    \"q3_review\": q3_review,\n",
        "\n",
        "    \"q4\": q4,\n",
        "    \"q4_confidence\":q5_confidence,\n",
        "    \"q4_preference\": q4_preference,\n",
        "    \"q4_review\": q4_review, \n",
        "\n",
        "    \"q5_preference\": q5_preference,\n",
        "    \"q5_review\": q5_review,\n",
        "    \"q5_comment\": q5_comment\n",
        "}\n",
        "\n",
        "print(\"copy the following and paste it to gradescope:\\n\\n\",answer)"
      ],
      "metadata": {
        "id": "v5A5tERqHKe6"
      },
      "execution_count": null,
      "outputs": []
    }
  ]
}
